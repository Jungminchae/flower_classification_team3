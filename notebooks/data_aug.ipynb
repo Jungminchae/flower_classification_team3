{
 "cells": [
  {
   "cell_type": "code",
   "execution_count": 14,
   "metadata": {},
   "outputs": [],
   "source": [
    "import tensorflow_datasets as tfds\n",
    "import tensorflow as tf\n",
    "from tensorflow import keras\n",
    "from tqdm import tqdm\n",
    "import numpy as np\n",
    "from PIL import Image\n",
    "from glob import glob\n",
    "import os\n",
    "from tensorflow.keras.preprocessing.image import ImageDataGenerator"
   ]
  },
  {
   "cell_type": "code",
   "execution_count": 2,
   "metadata": {},
   "outputs": [],
   "source": [
    "(raw_train, raw_validation, raw_test), metadata = tfds.load(\n",
    "    'tf_flowers',\n",
    "    split=['train[:80%]', 'train[80%:90%]', 'train[90%:]'],\n",
    "    with_info=True,\n",
    "    as_supervised=True)"
   ]
  },
  {
   "cell_type": "code",
   "execution_count": 38,
   "metadata": {},
   "outputs": [],
   "source": [
    "def make_image_file(dataset,path):\n",
    "    def to_numpy(x):\n",
    "        return x.numpy()\n",
    "    data = np.stack(list(dataset))\n",
    "    labels = data[:,1]\n",
    "    labels = list(map(to_numpy, labels))\n",
    "    \n",
    "    for i, (label ,arr) in tqdm(enumerate(zip(labels, data[:,0]))):\n",
    "        im = Image.fromarray(np.array(arr)).resize((224,224))\n",
    "        if label == 0:\n",
    "            im.save(path +'0/flower_{}_{}.png'.format(label, i))\n",
    "        elif label == 1:\n",
    "            im.save(path +'1/flower_{}_{}.png'.format(label, i))\n",
    "        elif label == 2:\n",
    "            im.save(path +'2/flower_{}_{}.png'.format(label, i))\n",
    "        elif label == 3:\n",
    "            im.save(path +'3/flower_{}_{}.png'.format(label, i))\n",
    "        elif label == 4:\n",
    "            im.save(path +'4/flower_{}_{}.png'.format(label, i))"
   ]
  },
  {
   "cell_type": "code",
   "execution_count": 45,
   "metadata": {},
   "outputs": [
    {
     "name": "stderr",
     "output_type": "stream",
     "text": [
      "2936it [00:29, 100.36it/s]\n"
     ]
    }
   ],
   "source": [
    "make_image_file(raw_train, './flower_dataset/train_images/')"
   ]
  },
  {
   "cell_type": "code",
   "execution_count": 46,
   "metadata": {},
   "outputs": [
    {
     "name": "stderr",
     "output_type": "stream",
     "text": [
      "367it [00:03, 99.54it/s] \n"
     ]
    }
   ],
   "source": [
    "make_image_file(raw_validation, './flower_dataset/validation_images/')"
   ]
  },
  {
   "cell_type": "code",
   "execution_count": 47,
   "metadata": {
    "scrolled": false
   },
   "outputs": [
    {
     "name": "stderr",
     "output_type": "stream",
     "text": [
      "367it [00:03, 99.04it/s] \n"
     ]
    }
   ],
   "source": [
    "make_image_file(raw_test, './flower_dataset/test_images/')"
   ]
  },
  {
   "cell_type": "code",
   "execution_count": 12,
   "metadata": {},
   "outputs": [],
   "source": [
    "image_generator = ImageDataGenerator(\n",
    "    rotation_range = 45,\n",
    "    width_shift_range = 0.20,\n",
    "    height_shift_range = 0.20,\n",
    "    zoom_range = 0.3,\n",
    "    horizontal_flip=True,\n",
    "    fill_mode = 'nearest',\n",
    ")"
   ]
  },
  {
   "cell_type": "code",
   "execution_count": 4,
   "metadata": {},
   "outputs": [
    {
     "data": {
      "text/plain": [
       "'2.2.0'"
      ]
     },
     "execution_count": 4,
     "metadata": {},
     "output_type": "execute_result"
    }
   ],
   "source": [
    "tf.__version__"
   ]
  },
  {
   "cell_type": "code",
   "execution_count": 5,
   "metadata": {},
   "outputs": [],
   "source": [
    "data_path = glob('flower_dataset/train_images/*/*')"
   ]
  },
  {
   "cell_type": "code",
   "execution_count": 9,
   "metadata": {},
   "outputs": [
    {
     "data": {
      "text/plain": [
       "'3'"
      ]
     },
     "execution_count": 9,
     "metadata": {},
     "output_type": "execute_result"
    }
   ],
   "source": [
    "data_path[0].split('_')[-2]"
   ]
  },
  {
   "cell_type": "code",
   "execution_count": 7,
   "metadata": {},
   "outputs": [],
   "source": [
    "path = './flower_dataset/augmented_data/'"
   ]
  },
  {
   "cell_type": "code",
   "execution_count": 13,
   "metadata": {},
   "outputs": [],
   "source": [
    "for i in data_path:\n",
    "    img = tf.io.read_file(i)\n",
    "    img = tf.io.decode_image(img)\n",
    "    \n",
    "    img = img[tf.newaxis, ...]\n",
    "    num = 0\n",
    "    for batch in image_generator.flow(img, batch_size=1,save_prefix=i.split('_')[-2] ,save_to_dir=path, save_format='png'):\n",
    "        num += 1\n",
    "        if num > 10:\n",
    "            break"
   ]
  }
 ],
 "metadata": {
  "kernelspec": {
   "display_name": "aiffel",
   "language": "python",
   "name": "aiffel"
  },
  "language_info": {
   "codemirror_mode": {
    "name": "ipython",
    "version": 3
   },
   "file_extension": ".py",
   "mimetype": "text/x-python",
   "name": "python",
   "nbconvert_exporter": "python",
   "pygments_lexer": "ipython3",
   "version": "3.7.6"
  }
 },
 "nbformat": 4,
 "nbformat_minor": 4
}
